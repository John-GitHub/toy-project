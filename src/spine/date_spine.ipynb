{
 "cells": [
  {
   "cell_type": "code",
   "execution_count": 1,
   "id": "ed83d1fb",
   "metadata": {},
   "outputs": [
    {
     "name": "stdout",
     "output_type": "stream",
     "text": [
      "Interpreter: c:\\toy_code\\.venv\\Scripts\\python.exe\n",
      "spine version: 0.0.1\n"
     ]
    }
   ],
   "source": [
    "import sys, importlib.metadata as md\n",
    "print(\"Interpreter:\", sys.executable)           # expect ...\\toy_code\\.venv\\Scripts\\python.exe\n",
    "print(\"spine version:\", md.version(\"spine\"))    # expect 0.0.1\n",
    "\n"
   ]
  },
  {
   "cell_type": "code",
   "execution_count": 2,
   "id": "ede72366",
   "metadata": {},
   "outputs": [
    {
     "name": "stdout",
     "output_type": "stream",
     "text": [
      "Name: spine\n",
      "Version: 0.0.1\n",
      "Summary: \n",
      "Home-page: \n",
      "Author: \n",
      "Author-email: \n",
      "License: \n",
      "Location: c:\\toy_code\\.venv\\Lib\\site-packages\n",
      "Editable project location: C:\\toy_code\n",
      "Requires: pandas\n",
      "Required-by: \n",
      "Note: you may need to restart the kernel to use updated packages.\n"
     ]
    }
   ],
   "source": [
    "# Shows where it's installed; no need to reinstall\n",
    "%pip show spine\n"
   ]
  },
  {
   "cell_type": "code",
   "execution_count": 1,
   "id": "7dd13245",
   "metadata": {},
   "outputs": [
    {
     "data": {
      "application/vnd.microsoft.datawrangler.viewer.v0+json": {
       "columns": [
        {
         "name": "index",
         "rawType": "int64",
         "type": "integer"
        },
        {
         "name": "date",
         "rawType": "datetime64[ns]",
         "type": "datetime"
        },
        {
         "name": "date_id",
         "rawType": "int64",
         "type": "integer"
        },
        {
         "name": "day_of_week",
         "rawType": "int32",
         "type": "integer"
        },
        {
         "name": "day_name",
         "rawType": "object",
         "type": "string"
        },
        {
         "name": "is_weekend",
         "rawType": "int64",
         "type": "integer"
        },
        {
         "name": "year",
         "rawType": "int32",
         "type": "integer"
        },
        {
         "name": "quarter",
         "rawType": "int32",
         "type": "integer"
        },
        {
         "name": "month",
         "rawType": "int32",
         "type": "integer"
        },
        {
         "name": "day",
         "rawType": "int32",
         "type": "integer"
        },
        {
         "name": "month_name",
         "rawType": "object",
         "type": "string"
        },
        {
         "name": "year_month",
         "rawType": "int64",
         "type": "integer"
        },
        {
         "name": "iso_year",
         "rawType": "int64",
         "type": "integer"
        },
        {
         "name": "iso_week",
         "rawType": "int64",
         "type": "integer"
        },
        {
         "name": "is_business_day_generic",
         "rawType": "int64",
         "type": "integer"
        }
       ],
       "ref": "f483778a-9b65-4655-b973-cac5a2361603",
       "rows": [
        [
         "0",
         "2020-01-01 00:00:00",
         "20200101",
         "3",
         "WED",
         "0",
         "2020",
         "1",
         "1",
         "1",
         "January",
         "202001",
         "2020",
         "1",
         "1"
        ],
        [
         "1",
         "2020-01-02 00:00:00",
         "20200102",
         "4",
         "THU",
         "0",
         "2020",
         "1",
         "1",
         "2",
         "January",
         "202001",
         "2020",
         "1",
         "1"
        ],
        [
         "2",
         "2020-01-03 00:00:00",
         "20200103",
         "5",
         "FRI",
         "0",
         "2020",
         "1",
         "1",
         "3",
         "January",
         "202001",
         "2020",
         "1",
         "1"
        ],
        [
         "3",
         "2020-01-04 00:00:00",
         "20200104",
         "6",
         "SAT",
         "1",
         "2020",
         "1",
         "1",
         "4",
         "January",
         "202001",
         "2020",
         "1",
         "0"
        ],
        [
         "4",
         "2020-01-05 00:00:00",
         "20200105",
         "7",
         "SUN",
         "1",
         "2020",
         "1",
         "1",
         "5",
         "January",
         "202001",
         "2020",
         "1",
         "0"
        ]
       ],
       "shape": {
        "columns": 14,
        "rows": 5
       }
      },
      "text/html": [
       "<div>\n",
       "<style scoped>\n",
       "    .dataframe tbody tr th:only-of-type {\n",
       "        vertical-align: middle;\n",
       "    }\n",
       "\n",
       "    .dataframe tbody tr th {\n",
       "        vertical-align: top;\n",
       "    }\n",
       "\n",
       "    .dataframe thead th {\n",
       "        text-align: right;\n",
       "    }\n",
       "</style>\n",
       "<table border=\"1\" class=\"dataframe\">\n",
       "  <thead>\n",
       "    <tr style=\"text-align: right;\">\n",
       "      <th></th>\n",
       "      <th>date</th>\n",
       "      <th>date_id</th>\n",
       "      <th>day_of_week</th>\n",
       "      <th>day_name</th>\n",
       "      <th>is_weekend</th>\n",
       "      <th>year</th>\n",
       "      <th>quarter</th>\n",
       "      <th>month</th>\n",
       "      <th>day</th>\n",
       "      <th>month_name</th>\n",
       "      <th>year_month</th>\n",
       "      <th>iso_year</th>\n",
       "      <th>iso_week</th>\n",
       "      <th>is_business_day_generic</th>\n",
       "    </tr>\n",
       "  </thead>\n",
       "  <tbody>\n",
       "    <tr>\n",
       "      <th>0</th>\n",
       "      <td>2020-01-01</td>\n",
       "      <td>20200101</td>\n",
       "      <td>3</td>\n",
       "      <td>WED</td>\n",
       "      <td>0</td>\n",
       "      <td>2020</td>\n",
       "      <td>1</td>\n",
       "      <td>1</td>\n",
       "      <td>1</td>\n",
       "      <td>January</td>\n",
       "      <td>202001</td>\n",
       "      <td>2020</td>\n",
       "      <td>1</td>\n",
       "      <td>1</td>\n",
       "    </tr>\n",
       "    <tr>\n",
       "      <th>1</th>\n",
       "      <td>2020-01-02</td>\n",
       "      <td>20200102</td>\n",
       "      <td>4</td>\n",
       "      <td>THU</td>\n",
       "      <td>0</td>\n",
       "      <td>2020</td>\n",
       "      <td>1</td>\n",
       "      <td>1</td>\n",
       "      <td>2</td>\n",
       "      <td>January</td>\n",
       "      <td>202001</td>\n",
       "      <td>2020</td>\n",
       "      <td>1</td>\n",
       "      <td>1</td>\n",
       "    </tr>\n",
       "    <tr>\n",
       "      <th>2</th>\n",
       "      <td>2020-01-03</td>\n",
       "      <td>20200103</td>\n",
       "      <td>5</td>\n",
       "      <td>FRI</td>\n",
       "      <td>0</td>\n",
       "      <td>2020</td>\n",
       "      <td>1</td>\n",
       "      <td>1</td>\n",
       "      <td>3</td>\n",
       "      <td>January</td>\n",
       "      <td>202001</td>\n",
       "      <td>2020</td>\n",
       "      <td>1</td>\n",
       "      <td>1</td>\n",
       "    </tr>\n",
       "    <tr>\n",
       "      <th>3</th>\n",
       "      <td>2020-01-04</td>\n",
       "      <td>20200104</td>\n",
       "      <td>6</td>\n",
       "      <td>SAT</td>\n",
       "      <td>1</td>\n",
       "      <td>2020</td>\n",
       "      <td>1</td>\n",
       "      <td>1</td>\n",
       "      <td>4</td>\n",
       "      <td>January</td>\n",
       "      <td>202001</td>\n",
       "      <td>2020</td>\n",
       "      <td>1</td>\n",
       "      <td>0</td>\n",
       "    </tr>\n",
       "    <tr>\n",
       "      <th>4</th>\n",
       "      <td>2020-01-05</td>\n",
       "      <td>20200105</td>\n",
       "      <td>7</td>\n",
       "      <td>SUN</td>\n",
       "      <td>1</td>\n",
       "      <td>2020</td>\n",
       "      <td>1</td>\n",
       "      <td>1</td>\n",
       "      <td>5</td>\n",
       "      <td>January</td>\n",
       "      <td>202001</td>\n",
       "      <td>2020</td>\n",
       "      <td>1</td>\n",
       "      <td>0</td>\n",
       "    </tr>\n",
       "  </tbody>\n",
       "</table>\n",
       "</div>"
      ],
      "text/plain": [
       "        date   date_id  day_of_week day_name  is_weekend  year  quarter  \\\n",
       "0 2020-01-01  20200101            3      WED           0  2020        1   \n",
       "1 2020-01-02  20200102            4      THU           0  2020        1   \n",
       "2 2020-01-03  20200103            5      FRI           0  2020        1   \n",
       "3 2020-01-04  20200104            6      SAT           1  2020        1   \n",
       "4 2020-01-05  20200105            7      SUN           1  2020        1   \n",
       "\n",
       "   month  day month_name  year_month  iso_year  iso_week  \\\n",
       "0      1    1    January      202001      2020         1   \n",
       "1      1    2    January      202001      2020         1   \n",
       "2      1    3    January      202001      2020         1   \n",
       "3      1    4    January      202001      2020         1   \n",
       "4      1    5    January      202001      2020         1   \n",
       "\n",
       "   is_business_day_generic  \n",
       "0                        1  \n",
       "1                        1  \n",
       "2                        1  \n",
       "3                        0  \n",
       "4                        0  "
      ]
     },
     "metadata": {},
     "output_type": "display_data"
    }
   ],
   "source": [
    "from spine import build_date_spine\n",
    "df = build_date_spine(\"2020-01-01\", \"2020-01-05\")\n",
    "display(df)                                    # should be 5 rows, 1–5 Jan\n"
   ]
  },
  {
   "cell_type": "code",
   "execution_count": 2,
   "id": "5a1eb237",
   "metadata": {},
   "outputs": [
    {
     "ename": "AssertionError",
     "evalue": "",
     "output_type": "error",
     "traceback": [
      "\u001b[31m---------------------------------------------------------------------------\u001b[39m",
      "\u001b[31mAssertionError\u001b[39m                            Traceback (most recent call last)",
      "\u001b[36mCell\u001b[39m\u001b[36m \u001b[39m\u001b[32mIn[2]\u001b[39m\u001b[32m, line 5\u001b[39m\n\u001b[32m      3\u001b[39m \u001b[38;5;28;01massert\u001b[39;00m df[\u001b[33m\"\u001b[39m\u001b[33mdate_id\u001b[39m\u001b[33m\"\u001b[39m].is_unique\n\u001b[32m      4\u001b[39m \u001b[38;5;28;01massert\u001b[39;00m \u001b[38;5;28mset\u001b[39m(df[\u001b[33m\"\u001b[39m\u001b[33mday_of_week\u001b[39m\u001b[33m\"\u001b[39m].unique()).issubset(\u001b[38;5;28mset\u001b[39m(\u001b[38;5;28mrange\u001b[39m(\u001b[32m1\u001b[39m, \u001b[32m8\u001b[39m)))\n\u001b[32m----> \u001b[39m\u001b[32m5\u001b[39m \u001b[38;5;28;01massert\u001b[39;00m df.loc[df[\u001b[33m\"\u001b[39m\u001b[33mis_weekend\u001b[39m\u001b[33m\"\u001b[39m], \u001b[33m\"\u001b[39m\u001b[33mday_of_week\u001b[39m\u001b[33m\"\u001b[39m].isin([\u001b[32m6\u001b[39m,\u001b[32m7\u001b[39m]).all()\n\u001b[32m      6\u001b[39m \u001b[38;5;28mprint\u001b[39m(\u001b[33m\"\u001b[39m\u001b[33m✅ Minimal checks passed\u001b[39m\u001b[33m\"\u001b[39m)\n",
      "\u001b[31mAssertionError\u001b[39m: "
     ]
    }
   ],
   "source": [
    "import pandas as pd\n",
    "assert len(df) == 5\n",
    "assert df[\"date_id\"].is_unique\n",
    "assert set(df[\"day_of_week\"].unique()).issubset(set(range(1, 8)))\n",
    "assert df.loc[df[\"is_weekend\"], \"day_of_week\"].isin([6,7]).all()\n",
    "print(\"✅ Minimal checks passed\")\n"
   ]
  }
 ],
 "metadata": {
  "kernelspec": {
   "display_name": ".venv",
   "language": "python",
   "name": "python3"
  },
  "language_info": {
   "codemirror_mode": {
    "name": "ipython",
    "version": 3
   },
   "file_extension": ".py",
   "mimetype": "text/x-python",
   "name": "python",
   "nbconvert_exporter": "python",
   "pygments_lexer": "ipython3",
   "version": "3.11.9"
  }
 },
 "nbformat": 4,
 "nbformat_minor": 5
}
